{
 "cells": [
  {
   "cell_type": "markdown",
   "id": "9492249c",
   "metadata": {},
   "source": [
    "## f(x) = (sin(x)/2 + cos(x)/2)^2 * sin(x)\n",
    "\n",
    "1. Определить корни\n",
    "\n",
    "2. Найти интервалы, на которых функция возрастает\n",
    "\n",
    "3. Найти интервалы, на которых функция убывает\n",
    "\n",
    "4. Построить график\n",
    "\n",
    "5. Вычислить вершину\n",
    "\n",
    "6. Определить промежутки, на котором f > 0\n",
    "\n",
    "7. Определить промежутки, на котором f < 0"
   ]
  },
  {
   "cell_type": "code",
   "execution_count": 193,
   "id": "52347aca",
   "metadata": {},
   "outputs": [],
   "source": [
    "from sympy import Symbol, simplify, plot, pi, diff, Interval\n",
    "from sympy.solvers import solve, solveset\n",
    "from sympy import S, sin, cos"
   ]
  },
  {
   "cell_type": "markdown",
   "id": "776a86ce",
   "metadata": {},
   "source": [
    "#### 0. Задаем функцию"
   ]
  },
  {
   "cell_type": "code",
   "execution_count": 194,
   "id": "bf3f04b6",
   "metadata": {},
   "outputs": [
    {
     "data": {
      "text/latex": [
       "$\\displaystyle \\left(\\frac{\\sin{\\left(x \\right)}}{2} + \\frac{\\cos{\\left(x \\right)}}{2}\\right)^{2} \\sin{\\left(x \\right)}$"
      ],
      "text/plain": [
       "(sin(x)/2 + cos(x)/2)**2*sin(x)"
      ]
     },
     "execution_count": 194,
     "metadata": {},
     "output_type": "execute_result"
    }
   ],
   "source": [
    "x = Symbol('x', real = True)\n",
    "y = (sin(x)/2 + cos(x)/2)**2 * sin(x)\n",
    "y"
   ]
  },
  {
   "cell_type": "markdown",
   "id": "b419b4ec",
   "metadata": {},
   "source": [
    "#### 1. Определяем корни"
   ]
  },
  {
   "cell_type": "code",
   "execution_count": 195,
   "id": "e81e6ecd",
   "metadata": {},
   "outputs": [
    {
     "data": {
      "text/plain": [
       "[0, -pi/4, 3*pi/4, pi]"
      ]
     },
     "execution_count": 195,
     "metadata": {},
     "output_type": "execute_result"
    }
   ],
   "source": [
    "roots = solve(y, x)\n",
    "roots"
   ]
  },
  {
   "cell_type": "markdown",
   "id": "4893dd85",
   "metadata": {},
   "source": [
    "#### 2. Ищем интервалы, на которых функция возрастает"
   ]
  },
  {
   "cell_type": "markdown",
   "id": "3492d019",
   "metadata": {},
   "source": [
    "##### 2.1 Вычисляем производную"
   ]
  },
  {
   "cell_type": "code",
   "execution_count": 196,
   "id": "dd096abf",
   "metadata": {},
   "outputs": [
    {
     "data": {
      "text/latex": [
       "$\\displaystyle \\left(- \\sin{\\left(x \\right)} + \\cos{\\left(x \\right)}\\right) \\left(\\frac{\\sin{\\left(x \\right)}}{2} + \\frac{\\cos{\\left(x \\right)}}{2}\\right) \\sin{\\left(x \\right)} + \\left(\\frac{\\sin{\\left(x \\right)}}{2} + \\frac{\\cos{\\left(x \\right)}}{2}\\right)^{2} \\cos{\\left(x \\right)}$"
      ],
      "text/plain": [
       "(-sin(x) + cos(x))*(sin(x)/2 + cos(x)/2)*sin(x) + (sin(x)/2 + cos(x)/2)**2*cos(x)"
      ]
     },
     "execution_count": 196,
     "metadata": {},
     "output_type": "execute_result"
    }
   ],
   "source": [
    "y_diff = diff(y, x)\n",
    "y_diff"
   ]
  },
  {
   "cell_type": "markdown",
   "id": "5d10f8b4",
   "metadata": {},
   "source": [
    "###### 2.2 Определяем корни производной"
   ]
  },
  {
   "cell_type": "code",
   "execution_count": 197,
   "id": "a8783ec2",
   "metadata": {},
   "outputs": [
    {
     "data": {
      "text/plain": [
       "[-pi/4,\n",
       " 3*pi/4,\n",
       " -2*atan(-3/2 + sqrt(6)*sqrt(5 - sqrt(17))/2 + sqrt(17)/2),\n",
       " 2*atan(3/2 + sqrt(17)/2 + sqrt(6)*sqrt(sqrt(17) + 5)/2),\n",
       " 2*atan(-sqrt(17)/2 + sqrt(6)*sqrt(5 - sqrt(17))/2 + 3/2),\n",
       " 2*atan(-sqrt(6)*sqrt(sqrt(17) + 5)/2 + 3/2 + sqrt(17)/2)]"
      ]
     },
     "execution_count": 197,
     "metadata": {},
     "output_type": "execute_result"
    }
   ],
   "source": [
    "extremum = solve(y_diff, x)\n",
    "extremum"
   ]
  },
  {
   "cell_type": "code",
   "execution_count": 198,
   "id": "5288db22",
   "metadata": {},
   "outputs": [
    {
     "data": {
      "text/plain": [
       "[-0.79, 2.36, -2.08, 2.87, 1.06, -0.27]"
      ]
     },
     "execution_count": 198,
     "metadata": {},
     "output_type": "execute_result"
    }
   ],
   "source": [
    "extremum_light = []\n",
    "for i in extremum:\n",
    "    extremum_light.append(round(i.evalf(),2))\n",
    "extremum_light"
   ]
  },
  {
   "cell_type": "markdown",
   "id": "630da0cf",
   "metadata": {},
   "source": [
    "###### 2.3 Добавляем границы интервала"
   ]
  },
  {
   "cell_type": "code",
   "execution_count": 199,
   "id": "3a1f7d52",
   "metadata": {},
   "outputs": [
    {
     "data": {
      "text/plain": [
       "[-pi, -0.79, 2.36, -2.08, 2.87, 1.06, -0.27, pi]"
      ]
     },
     "execution_count": 199,
     "metadata": {},
     "output_type": "execute_result"
    }
   ],
   "source": [
    "extremum_light.insert(0, -pi)\n",
    "extremum_light.append(pi)\n",
    "extremum_light"
   ]
  },
  {
   "cell_type": "markdown",
   "id": "3673c385",
   "metadata": {},
   "source": [
    "##### 2.4 Отсортируем по возрастанию"
   ]
  },
  {
   "cell_type": "code",
   "execution_count": 200,
   "id": "a0aef4b4",
   "metadata": {},
   "outputs": [
    {
     "data": {
      "text/plain": [
       "[-pi, -2.08, -0.79, -0.27, 1.06, 2.36, 2.87, pi]"
      ]
     },
     "execution_count": 200,
     "metadata": {},
     "output_type": "execute_result"
    }
   ],
   "source": [
    "extremum_light.sort()\n",
    "extremum_light\n"
   ]
  },
  {
   "cell_type": "markdown",
   "id": "d24441be",
   "metadata": {},
   "source": [
    "##### 2.5 Задаем интервалы"
   ]
  },
  {
   "cell_type": "code",
   "execution_count": 201,
   "id": "7289ab6d",
   "metadata": {},
   "outputs": [
    {
     "data": {
      "text/plain": [
       "[Interval(-pi, -2.08),\n",
       " Interval(-2.08, -0.79),\n",
       " Interval(-0.79, -0.27),\n",
       " Interval(-0.27, 1.06),\n",
       " Interval(1.06, 2.36),\n",
       " Interval(2.36, 2.87),\n",
       " Interval(2.87, pi)]"
      ]
     },
     "execution_count": 201,
     "metadata": {},
     "output_type": "execute_result"
    }
   ],
   "source": [
    "intervals = []\n",
    "for i in range(0, len(extremum_light)-1):\n",
    "    intervals.append(Interval(extremum_light[i], extremum_light[i+1]))\n",
    "intervals"
   ]
  },
  {
   "cell_type": "markdown",
   "id": "3fbf00a2",
   "metadata": {},
   "source": [
    "##### 2.6 Находим точки в середине интервалов"
   ]
  },
  {
   "cell_type": "code",
   "execution_count": 202,
   "id": "ec713874",
   "metadata": {},
   "outputs": [
    {
     "data": {
      "text/plain": [
       "[-2.61, -1.44, -0.53, 0.40, 1.71, 2.62, 3.01]"
      ]
     },
     "execution_count": 202,
     "metadata": {},
     "output_type": "execute_result"
    }
   ],
   "source": [
    "points =[]\n",
    "for i in range(0, len(extremum_light)-1):\n",
    "   points.append(round((extremum_light[i] + (extremum_light[i+1]-extremum_light[i])/2).evalf(),2))\n",
    "points"
   ]
  },
  {
   "cell_type": "markdown",
   "id": "84607581",
   "metadata": {},
   "source": [
    "##### 2.6 Проверяем возрастание функции на данных интервалах"
   ]
  },
  {
   "cell_type": "code",
   "execution_count": 203,
   "id": "239c1c3a",
   "metadata": {},
   "outputs": [
    {
     "name": "stdout",
     "output_type": "stream",
     "text": [
      "Interval(-2.08, -0.79) - функция возрастает\n",
      "Interval(-0.27, 1.06) - функция возрастает\n",
      "Interval(2.36, 2.87) - функция возрастает\n"
     ]
    }
   ],
   "source": [
    "for i, point in enumerate(points):\n",
    "    if y_diff.subs(x, point).evalf() > 0:\n",
    "        print(f'{intervals[i]} - функция возрастает')"
   ]
  },
  {
   "cell_type": "markdown",
   "id": "03dab393",
   "metadata": {},
   "source": [
    "#### 3. Ищем интервалы, на которых функция возрастает"
   ]
  },
  {
   "cell_type": "code",
   "execution_count": 204,
   "id": "b17b4a14",
   "metadata": {},
   "outputs": [
    {
     "name": "stdout",
     "output_type": "stream",
     "text": [
      "Interval(-pi, -2.08) - функция убывает\n",
      "Interval(-0.79, -0.27) - функция убывает\n",
      "Interval(1.06, 2.36) - функция убывает\n",
      "Interval(2.87, pi) - функция убывает\n"
     ]
    }
   ],
   "source": [
    "for i, point in enumerate(points):\n",
    "    if y_diff.subs(x, point).evalf() < 0:\n",
    "        print(f'{intervals[i]} - функция убывает')"
   ]
  },
  {
   "cell_type": "markdown",
   "id": "c6c4c4c9",
   "metadata": {},
   "source": [
    "#### 4. Строим график"
   ]
  },
  {
   "cell_type": "code",
   "execution_count": 205,
   "id": "8f8c0b8e",
   "metadata": {},
   "outputs": [
    {
     "data": {
      "image/png": "[encoded data removed]",
      "text/plain": [
       "<Figure size 432x288 with 1 Axes>"
      ]
     },
     "metadata": {
      "needs_background": "light"
     },
     "output_type": "display_data"
    }
   ],
   "source": [
    "p1 = plot(y, (x , -pi, pi), show=False)\n",
    "p2 = plot(y_diff,(x, -pi, pi), show=False)\n",
    "p1.append(p2[0])\n",
    "p1.show()"
   ]
  },
  {
   "cell_type": "markdown",
   "id": "6fe87d26",
   "metadata": {},
   "source": [
    "#### 5.Вычисляем вершину"
   ]
  },
  {
   "cell_type": "code",
   "execution_count": 214,
   "id": "dbfcc10b",
   "metadata": {},
   "outputs": [
    {
     "name": "stdout",
     "output_type": "stream",
     "text": [
      " Вершина 1: x = -2.08, y = -0.40\n",
      " Вершина 2: x = -0.79, y = 0.0\n",
      " Вершина 3: x = -0.27, y = -0.03\n",
      " Вершина 4: x = 1.06, y = 0.40\n",
      " Вершина 5: x = 2.36, y = 0.0\n",
      " Вершина 6: x = 2.87, y = 0.03\n"
     ]
    }
   ],
   "source": [
    "diff_y_0 = extremum_light[1:-1]\n",
    "index = 1\n",
    "for i in diff_y_0:\n",
    "    print(f' Вершина {index}: x = {i}, y = {round(y.subs(x,i).evalf(),2)}')\n",
    "    index +=1"
   ]
  },
  {
   "cell_type": "markdown",
   "id": "c18d671c",
   "metadata": {},
   "source": [
    "#### 6. Определяем промежутки, на котором f > 0"
   ]
  },
  {
   "cell_type": "code",
   "execution_count": 220,
   "id": "25898105",
   "metadata": {},
   "outputs": [
    {
     "data": {
      "text/latex": [
       "$\\displaystyle \\left(0, \\frac{3 \\pi}{4}\\right) \\cup \\left(\\frac{3 \\pi}{4}, \\pi\\right)$"
      ],
      "text/plain": [
       "Union(Interval.open(0, 3*pi/4), Interval.open(3*pi/4, pi))"
      ]
     },
     "execution_count": 220,
     "metadata": {},
     "output_type": "execute_result"
    }
   ],
   "source": [
    "solveset(y>0, x, S.Reals)"
   ]
  },
  {
   "cell_type": "markdown",
   "id": "d9c6ca00",
   "metadata": {},
   "source": [
    "#### 7. Определяем промежутки, на котором f < 0"
   ]
  },
  {
   "cell_type": "code",
   "execution_count": 221,
   "id": "282e049c",
   "metadata": {},
   "outputs": [
    {
     "data": {
      "text/latex": [
       "$\\displaystyle \\left(\\pi, \\frac{7 \\pi}{4}\\right) \\cup \\left(\\frac{7 \\pi}{4}, 2 \\pi\\right)$"
      ],
      "text/plain": [
       "Union(Interval.open(pi, 7*pi/4), Interval.open(7*pi/4, 2*pi))"
      ]
     },
     "execution_count": 221,
     "metadata": {},
     "output_type": "execute_result"
    }
   ],
   "source": [
    "solveset(y<0, x, S.Reals)"
   ]
  }
 ],
 "metadata": {
  "kernelspec": {
   "display_name": "Python 3 (ipykernel)",
   "language": "python",
   "name": "python3"
  },
  "language_info": {
   "codemirror_mode": {
    "name": "ipython",
    "version": 3
   },
   "file_extension": ".py",
   "mimetype": "text/x-python",
   "name": "python",
   "nbconvert_exporter": "python",
   "pygments_lexer": "ipython3",
   "version": "3.9.12"
  }
 },
 "nbformat": 4,
 "nbformat_minor": 5
}
